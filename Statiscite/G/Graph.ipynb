{
 "cells": [
  {
   "cell_type": "code",
   "execution_count": 2,
   "metadata": {},
   "outputs": [],
   "source": [
    "import matplotlib.pyplot as plt\n",
    "import pandas as pd\n",
    "import seaborn as sns\n",
    "import numpy as np\n",
    "cointag = pd.read_csv(\"coin_tags.csv\")\n",
    "coin = pd.read_csv(\"coins200.csv\")\n",
    "information = pd.read_csv(\"coins_information.csv\")\n",
    "tags = pd.read_csv(\"tags.csv\")"
   ]
  },
  {
   "cell_type": "code",
   "execution_count": 3,
   "metadata": {},
   "outputs": [],
   "source": [
    "information['pricedif'] = information.apply( lambda row : row.close - row.open , axis=1 )"
   ]
  },
  {
   "cell_type": "code",
   "execution_count": 4,
   "metadata": {},
   "outputs": [],
   "source": [
    "help = information[\"timestamp\"].copy()\n",
    "df = information[[\"Symbol\", \"pricedif\"]].copy()\n",
    "\n",
    "df[\"date\"] = pd.to_datetime(help)\n",
    "df = df[df['date'].dt.month <= 5]\n",
    "df = df[df['date'].dt.month >= 3]\n",
    "\n",
    "df = df.sort_values(by=['date', \"Symbol\"])\n",
    "check = df[\"pricedif\"] > 0"
   ]
  },
  {
   "cell_type": "code",
   "execution_count": 5,
   "metadata": {},
   "outputs": [],
   "source": [
    "cnt = [None] * 6\n",
    "num = [None] * 6\n",
    "for i in range(6):\n",
    "    cnt[i] = [0] * 32\n",
    "    num[i] = [0] * 32"
   ]
  },
  {
   "cell_type": "code",
   "execution_count": 6,
   "metadata": {},
   "outputs": [],
   "source": [
    "final_list = list(set(df[df[\"date\"].dt.month==5][\"Symbol\"]))\n",
    "dic = {}\n",
    "for i in final_list:\n",
    "    dic[i] = 0"
   ]
  },
  {
   "cell_type": "code",
   "execution_count": 7,
   "metadata": {},
   "outputs": [],
   "source": [
    "for i in range(3,6):\n",
    "    for j in range(1,32):\n",
    "        if(i == 4 and j == 31):\n",
    "            continue\n",
    "        hlp = df[(df[\"date\"].dt.month==i) & (df[\"date\"].dt.day==j)]\n",
    "        sym = list(hlp[\"Symbol\"])\n",
    "        num[i][j] = len(sym)\n",
    "        for k in sym:\n",
    "          if(hlp[hlp[\"Symbol\"]==k][\"pricedif\"].values[0] > 0):\n",
    "              cnt[i][j] += 1\n",
    "        if cnt[i][j] <= num[i][j] * 0.35:\n",
    "            for k in sym:\n",
    "                if(hlp[hlp[\"Symbol\"]==k][\"pricedif\"].values[0] > 0):\n",
    "                    dic[k] += 1"
   ]
  },
  {
   "cell_type": "code",
   "execution_count": 8,
   "metadata": {},
   "outputs": [],
   "source": [
    "keys = list(dic.keys())\n",
    "values = list(dic.values())\n",
    "sorted_value_index = np.argsort(values)\n",
    "sorted_dict = {keys[i]: values[i] for i in sorted_value_index}"
   ]
  },
  {
   "cell_type": "code",
   "execution_count": 9,
   "metadata": {},
   "outputs": [
    {
     "name": "stdout",
     "output_type": "stream",
     "text": [
      "USDP 14\n",
      "TUSD 16\n",
      "MX 16\n",
      "USDD 17\n",
      "DAI 19\n",
      "LEO 19\n",
      "PAXG 20\n",
      "XAUt 20\n",
      "USDT 21\n",
      "USDC 29\n"
     ]
    }
   ],
   "source": [
    "keys = list(sorted_dict.keys())\n",
    "n = len(keys)\n",
    "ans = []\n",
    "for i in range(n-10,n):\n",
    "    ans.append(keys[i])\n",
    "    print(keys[i], dic[keys[i]])"
   ]
  },
  {
   "cell_type": "code",
   "execution_count": 10,
   "metadata": {},
   "outputs": [
    {
     "name": "stdout",
     "output_type": "stream",
     "text": [
      "62    Pax Dollar\n",
      "Name: Name, dtype: object\n",
      "23    TrueUSD\n",
      "Name: Name, dtype: object\n",
      "102    MX TOKEN\n",
      "Name: Name, dtype: object\n",
      "46    USDD\n",
      "Name: Name, dtype: object\n",
      "11    Dai\n",
      "Name: Name, dtype: object\n",
      "18    UNUS SED LEO\n",
      "Name: Name, dtype: object\n",
      "66    PAX Gold\n",
      "Name: Name, dtype: object\n",
      "67    Tether Gold\n",
      "Name: Name, dtype: object\n",
      "2    Tether USDt\n",
      "Name: Name, dtype: object\n",
      "5    USD Coin\n",
      "Name: Name, dtype: object\n"
     ]
    }
   ],
   "source": [
    "sorted_dict\n",
    "information\n",
    "n\n",
    "for i in ans:\n",
    "    print(coin[coin[\"Symbol\"] == i][\"Name\"])\n",
    "# y"
   ]
  },
  {
   "cell_type": "code",
   "execution_count": 11,
   "metadata": {},
   "outputs": [
    {
     "data": {
      "text/html": [
       "<div>\n",
       "<style scoped>\n",
       "    .dataframe tbody tr th:only-of-type {\n",
       "        vertical-align: middle;\n",
       "    }\n",
       "\n",
       "    .dataframe tbody tr th {\n",
       "        vertical-align: top;\n",
       "    }\n",
       "\n",
       "    .dataframe thead th {\n",
       "        text-align: right;\n",
       "    }\n",
       "</style>\n",
       "<table border=\"1\" class=\"dataframe\">\n",
       "  <thead>\n",
       "    <tr style=\"text-align: right;\">\n",
       "      <th></th>\n",
       "      <th>Symbol</th>\n",
       "      <th>marketCap</th>\n",
       "    </tr>\n",
       "  </thead>\n",
       "  <tbody>\n",
       "    <tr>\n",
       "      <th>0</th>\n",
       "      <td>1INCH</td>\n",
       "      <td>1.294059e+11</td>\n",
       "    </tr>\n",
       "    <tr>\n",
       "      <th>1</th>\n",
       "      <td>AAVE</td>\n",
       "      <td>3.657602e+11</td>\n",
       "    </tr>\n",
       "    <tr>\n",
       "      <th>2</th>\n",
       "      <td>ACH</td>\n",
       "      <td>3.930310e+10</td>\n",
       "    </tr>\n",
       "    <tr>\n",
       "      <th>3</th>\n",
       "      <td>ADA</td>\n",
       "      <td>4.400294e+12</td>\n",
       "    </tr>\n",
       "    <tr>\n",
       "      <th>4</th>\n",
       "      <td>AGIX</td>\n",
       "      <td>9.197453e+10</td>\n",
       "    </tr>\n",
       "    <tr>\n",
       "      <th>...</th>\n",
       "      <td>...</td>\n",
       "      <td>...</td>\n",
       "    </tr>\n",
       "    <tr>\n",
       "      <th>195</th>\n",
       "      <td>YFI</td>\n",
       "      <td>9.270237e+10</td>\n",
       "    </tr>\n",
       "    <tr>\n",
       "      <th>196</th>\n",
       "      <td>ZEC</td>\n",
       "      <td>2.326637e+11</td>\n",
       "    </tr>\n",
       "    <tr>\n",
       "      <th>197</th>\n",
       "      <td>ZEN</td>\n",
       "      <td>4.969304e+10</td>\n",
       "    </tr>\n",
       "    <tr>\n",
       "      <th>198</th>\n",
       "      <td>ZIL</td>\n",
       "      <td>1.389741e+11</td>\n",
       "    </tr>\n",
       "    <tr>\n",
       "      <th>199</th>\n",
       "      <td>ZRX</td>\n",
       "      <td>6.946235e+10</td>\n",
       "    </tr>\n",
       "  </tbody>\n",
       "</table>\n",
       "<p>200 rows × 2 columns</p>\n",
       "</div>"
      ],
      "text/plain": [
       "    Symbol     marketCap\n",
       "0    1INCH  1.294059e+11\n",
       "1     AAVE  3.657602e+11\n",
       "2      ACH  3.930310e+10\n",
       "3      ADA  4.400294e+12\n",
       "4     AGIX  9.197453e+10\n",
       "..     ...           ...\n",
       "195    YFI  9.270237e+10\n",
       "196    ZEC  2.326637e+11\n",
       "197    ZEN  4.969304e+10\n",
       "198    ZIL  1.389741e+11\n",
       "199    ZRX  6.946235e+10\n",
       "\n",
       "[200 rows x 2 columns]"
      ]
     },
     "execution_count": 11,
     "metadata": {},
     "output_type": "execute_result"
    }
   ],
   "source": [
    "market = information[[\"Symbol\", \"marketCap\"]]\n",
    "market = market.groupby(\"Symbol\").agg({'marketCap': 'sum'})\n",
    "market.reset_index(inplace=True)\n",
    "market"
   ]
  },
  {
   "cell_type": "code",
   "execution_count": 12,
   "metadata": {},
   "outputs": [
    {
     "data": {
      "text/plain": [
       "[315886688103.19,\n",
       " 605863019164.92,\n",
       " 63464121239.72,\n",
       " 264623978096.51,\n",
       " 2005316620386.78,\n",
       " 1304139356741.21,\n",
       " 188882201431.09,\n",
       " 167016376685.01,\n",
       " 27165455061790.28,\n",
       " 13557836958676.95]"
      ]
     },
     "execution_count": 12,
     "metadata": {},
     "output_type": "execute_result"
    }
   ],
   "source": [
    "market_list = []\n",
    "for i in ans:\n",
    "    market_list.append(market[market[\"Symbol\"] == i][\"marketCap\"].values[0])\n",
    "market_list"
   ]
  },
  {
   "cell_type": "code",
   "execution_count": 13,
   "metadata": {},
   "outputs": [
    {
     "data": {
      "image/png": "[encoded data removed]",
      "text/plain": [
       "<Figure size 1200x800 with 1 Axes>"
      ]
     },
     "metadata": {},
     "output_type": "display_data"
    }
   ],
   "source": [
    "fig = plt.figure(figsize =(12, 8))\n",
    "axis = plt.axes()\n",
    "fig.set_facecolor(\"#D4F1F4\")\n",
    "\n",
    "axis.set_facecolor(\"#D4F1F4\")\n",
    "axis.spines.right.set_visible(False)\n",
    "axis.spines.top.set_visible(False)\n",
    "axis.tick_params(size=0, colors=\"#05445E\")\n",
    "\n",
    "plt.bar(ans, market_list, color ='#0E86D4', width = 0.5)\n",
    "plt.xlabel(\"Coin's Symbol\", color=\"#000C66\")\n",
    "plt.ylabel(\"Market Cap\", color=\"#000C66\")\n",
    "plt.title(\"Top 10 Coin's Market Cap\", color=\"#000C66\")\n",
    "\n",
    "plt.show()"
   ]
  }
 ],
 "metadata": {
  "kernelspec": {
   "display_name": "quera",
   "language": "python",
   "name": "python3"
  },
  "language_info": {
   "codemirror_mode": {
    "name": "ipython",
    "version": 3
   },
   "file_extension": ".py",
   "mimetype": "text/x-python",
   "name": "python",
   "nbconvert_exporter": "python",
   "pygments_lexer": "ipython3",
   "version": "3.9.17"
  },
  "orig_nbformat": 4
 },
 "nbformat": 4,
 "nbformat_minor": 2
}
